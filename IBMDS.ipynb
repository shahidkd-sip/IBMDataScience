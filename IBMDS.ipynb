{
    "cells": [
        {
            "metadata": {},
            "cell_type": "markdown",
            "source": "# My Jupyter Notebook on IBM Watson Studio"
        },
        {
            "metadata": {},
            "cell_type": "markdown",
            "source": "**Shahid Khan** <br>Data Scientest"
        },
        {
            "metadata": {},
            "cell_type": "markdown",
            "source": "*I am interested in data science because i want to see hidden pattern in data*"
        },
        {
            "metadata": {},
            "cell_type": "markdown",
            "source": "### Adding to number"
        },
        {
            "metadata": {},
            "cell_type": "code",
            "source": "1+1",
            "execution_count": 1,
            "outputs": [
                {
                    "output_type": "execute_result",
                    "execution_count": 1,
                    "data": {
                        "text/plain": "2"
                    },
                    "metadata": {}
                }
            ]
        },
        {
            "metadata": {},
            "cell_type": "markdown",
            "source": "- 1\n- 2\n- 3\n- 4\n- 5\n\n1. Num1\n2. Num2\n\n__Click on Link (http://Mylink.com)__\n***\n\n<table  style=\"width:25%\">\n<tr>\n<th>Country</th>\n<th>Capital</th>\n<th>Pupulation</th>\n</tr>\n<tr>\n<td>Pakistan</td>\n<td>Islamabad</td>\n<td>30m</td>\n</tr> <tr>\n<td>India</td>\n<td>Dehli</td>\n<td>200m</td>\n</tr>\n</tr>\n</table>"
        },
        {
            "metadata": {},
            "cell_type": "code",
            "source": "",
            "execution_count": null,
            "outputs": []
        }
    ],
    "metadata": {
        "kernelspec": {
            "name": "python3",
            "display_name": "Python 3.9",
            "language": "python"
        },
        "language_info": {
            "name": "python",
            "version": "3.9.12",
            "mimetype": "text/x-python",
            "codemirror_mode": {
                "name": "ipython",
                "version": 3
            },
            "pygments_lexer": "ipython3",
            "nbconvert_exporter": "python",
            "file_extension": ".py"
        }
    },
    "nbformat": 4,
    "nbformat_minor": 1
}